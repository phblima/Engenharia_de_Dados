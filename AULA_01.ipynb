{
  "nbformat": 4,
  "nbformat_minor": 0,
  "metadata": {
    "colab": {
      "provenance": [],
      "authorship_tag": "ABX9TyNpf6A3OqtQBAq5dgss/Ws+",
      "include_colab_link": true
    },
    "kernelspec": {
      "name": "python3",
      "display_name": "Python 3"
    },
    "language_info": {
      "name": "python"
    }
  },
  "cells": [
    {
      "cell_type": "markdown",
      "metadata": {
        "id": "view-in-github",
        "colab_type": "text"
      },
      "source": [
        "<a href=\"https://colab.research.google.com/github/phblima/Engenharia_de_Dados/blob/main/AULA_01.ipynb\" target=\"_parent\"><img src=\"https://colab.research.google.com/assets/colab-badge.svg\" alt=\"Open In Colab\"/></a>"
      ]
    },
    {
      "cell_type": "code",
      "execution_count": 1,
      "metadata": {
        "colab": {
          "base_uri": "https://localhost:8080/"
        },
        "id": "ljm1V5XM0bEM",
        "outputId": "bd2958ba-c66e-41d2-936b-24b8360b126a"
      },
      "outputs": [
        {
          "output_type": "stream",
          "name": "stdout",
          "text": [
            "A Soma foi: 8\n"
          ]
        }
      ],
      "source": [
        "n1 = 3\n",
        "n2 = 5\n",
        "soma = n1 + n2\n",
        "print ('A Soma foi:',soma)\n"
      ]
    }
  ]
}